{
  "cells": [
    {
      "cell_type": "code",
      "execution_count": 11,
      "metadata": {
        "colab": {
          "base_uri": "https://localhost:8080/"
        },
        "id": "q4Pt9owa6Lnf",
        "outputId": "244e52f6-9379-4164-a62d-74bbde9ae813"
      },
      "outputs": [
        {
          "name": "stdout",
          "output_type": "stream",
          "text": [
            "Requirement already satisfied: pandas in c:\\users\\anitha\\appdata\\local\\programs\\python\\python310\\lib\\site-packages (2.2.2)\n",
            "Requirement already satisfied: numpy>=1.22.4 in c:\\users\\anitha\\appdata\\local\\programs\\python\\python310\\lib\\site-packages (from pandas) (2.0.0)\n",
            "Requirement already satisfied: python-dateutil>=2.8.2 in c:\\users\\anitha\\appdata\\roaming\\python\\python310\\site-packages (from pandas) (2.9.0.post0)\n",
            "Requirement already satisfied: pytz>=2020.1 in c:\\users\\anitha\\appdata\\local\\programs\\python\\python310\\lib\\site-packages (from pandas) (2024.1)\n",
            "Requirement already satisfied: tzdata>=2022.7 in c:\\users\\anitha\\appdata\\local\\programs\\python\\python310\\lib\\site-packages (from pandas) (2024.1)\n",
            "Requirement already satisfied: six>=1.5 in c:\\users\\anitha\\appdata\\roaming\\python\\python310\\site-packages (from python-dateutil>=2.8.2->pandas) (1.16.0)\n",
            "Note: you may need to restart the kernel to use updated packages.\n"
          ]
        }
      ],
      "source": [
        "pip install pandas"
      ]
    },
    {
      "cell_type": "code",
      "execution_count": 12,
      "metadata": {
        "colab": {
          "base_uri": "https://localhost:8080/"
        },
        "id": "KnJrAGQX6LqM",
        "outputId": "3994d07d-288d-41ff-a147-e8b1f130236b"
      },
      "outputs": [
        {
          "name": "stdout",
          "output_type": "stream",
          "text": [
            "Requirement already satisfied: numpy in c:\\users\\anitha\\appdata\\local\\programs\\python\\python310\\lib\\site-packages (2.0.0)\n",
            "Note: you may need to restart the kernel to use updated packages.\n"
          ]
        }
      ],
      "source": [
        "pip install numpy"
      ]
    },
    {
      "cell_type": "code",
      "execution_count": 13,
      "metadata": {
        "colab": {
          "base_uri": "https://localhost:8080/"
        },
        "id": "78meqREw6WSv",
        "outputId": "e73971d1-3581-425e-a0f3-13971ac13dce"
      },
      "outputs": [
        {
          "name": "stdout",
          "output_type": "stream",
          "text": [
            "Requirement already satisfied: matplotlib in c:\\users\\anitha\\appdata\\local\\programs\\python\\python310\\lib\\site-packages (3.9.1)\n",
            "Requirement already satisfied: contourpy>=1.0.1 in c:\\users\\anitha\\appdata\\local\\programs\\python\\python310\\lib\\site-packages (from matplotlib) (1.2.1)\n",
            "Requirement already satisfied: cycler>=0.10 in c:\\users\\anitha\\appdata\\local\\programs\\python\\python310\\lib\\site-packages (from matplotlib) (0.12.1)\n",
            "Requirement already satisfied: fonttools>=4.22.0 in c:\\users\\anitha\\appdata\\local\\programs\\python\\python310\\lib\\site-packages (from matplotlib) (4.53.1)\n",
            "Requirement already satisfied: kiwisolver>=1.3.1 in c:\\users\\anitha\\appdata\\local\\programs\\python\\python310\\lib\\site-packages (from matplotlib) (1.4.5)\n",
            "Requirement already satisfied: numpy>=1.23 in c:\\users\\anitha\\appdata\\local\\programs\\python\\python310\\lib\\site-packages (from matplotlib) (2.0.0)\n",
            "Requirement already satisfied: packaging>=20.0 in c:\\users\\anitha\\appdata\\roaming\\python\\python310\\site-packages (from matplotlib) (24.1)\n",
            "Requirement already satisfied: pillow>=8 in c:\\users\\anitha\\appdata\\local\\programs\\python\\python310\\lib\\site-packages (from matplotlib) (10.4.0)\n",
            "Requirement already satisfied: pyparsing>=2.3.1 in c:\\users\\anitha\\appdata\\local\\programs\\python\\python310\\lib\\site-packages (from matplotlib) (3.1.2)\n",
            "Requirement already satisfied: python-dateutil>=2.7 in c:\\users\\anitha\\appdata\\roaming\\python\\python310\\site-packages (from matplotlib) (2.9.0.post0)\n",
            "Requirement already satisfied: six>=1.5 in c:\\users\\anitha\\appdata\\roaming\\python\\python310\\site-packages (from python-dateutil>=2.7->matplotlib) (1.16.0)\n",
            "Note: you may need to restart the kernel to use updated packages.\n"
          ]
        }
      ],
      "source": [
        "pip install matplotlib"
      ]
    },
    {
      "cell_type": "code",
      "execution_count": 14,
      "metadata": {
        "colab": {
          "base_uri": "https://localhost:8080/"
        },
        "id": "oKgCDRQP6WVc",
        "outputId": "e6a29195-ff2b-471e-bdaf-7065f76edcf7"
      },
      "outputs": [
        {
          "name": "stdout",
          "output_type": "stream",
          "text": [
            "Requirement already satisfied: scikit-learn in c:\\users\\anitha\\appdata\\local\\programs\\python\\python310\\lib\\site-packages (1.5.1)Note: you may need to restart the kernel to use updated packages.\n",
            "\n",
            "Requirement already satisfied: numpy>=1.19.5 in c:\\users\\anitha\\appdata\\local\\programs\\python\\python310\\lib\\site-packages (from scikit-learn) (2.0.0)\n",
            "Requirement already satisfied: scipy>=1.6.0 in c:\\users\\anitha\\appdata\\local\\programs\\python\\python310\\lib\\site-packages (from scikit-learn) (1.14.0)\n",
            "Requirement already satisfied: joblib>=1.2.0 in c:\\users\\anitha\\appdata\\local\\programs\\python\\python310\\lib\\site-packages (from scikit-learn) (1.4.2)\n",
            "Requirement already satisfied: threadpoolctl>=3.1.0 in c:\\users\\anitha\\appdata\\local\\programs\\python\\python310\\lib\\site-packages (from scikit-learn) (3.5.0)\n"
          ]
        }
      ],
      "source": [
        "pip install scikit-learn"
      ]
    },
    {
      "cell_type": "code",
      "execution_count": 15,
      "metadata": {
        "colab": {
          "base_uri": "https://localhost:8080/"
        },
        "id": "5GSmnYdU6WYT",
        "outputId": "7de40667-8793-4cfc-d2cf-91573af17742"
      },
      "outputs": [
        {
          "name": "stdout",
          "output_type": "stream",
          "text": [
            "Requirement already satisfied: flask in c:\\users\\anitha\\appdata\\local\\programs\\python\\python310\\lib\\site-packages (3.0.3)\n",
            "Requirement already satisfied: Werkzeug>=3.0.0 in c:\\users\\anitha\\appdata\\local\\programs\\python\\python310\\lib\\site-packages (from flask) (3.0.3)\n",
            "Requirement already satisfied: Jinja2>=3.1.2 in c:\\users\\anitha\\appdata\\local\\programs\\python\\python310\\lib\\site-packages (from flask) (3.1.4)\n",
            "Requirement already satisfied: itsdangerous>=2.1.2 in c:\\users\\anitha\\appdata\\local\\programs\\python\\python310\\lib\\site-packages (from flask) (2.2.0)\n",
            "Requirement already satisfied: click>=8.1.3 in c:\\users\\anitha\\appdata\\local\\programs\\python\\python310\\lib\\site-packages (from flask) (8.1.7)\n",
            "Requirement already satisfied: blinker>=1.6.2 in c:\\users\\anitha\\appdata\\local\\programs\\python\\python310\\lib\\site-packages (from flask) (1.8.2)\n",
            "Requirement already satisfied: colorama in c:\\users\\anitha\\appdata\\local\\programs\\python\\python310\\lib\\site-packages (from click>=8.1.3->flask) (0.4.6)\n",
            "Requirement already satisfied: MarkupSafe>=2.0 in c:\\users\\anitha\\appdata\\local\\programs\\python\\python310\\lib\\site-packages (from Jinja2>=3.1.2->flask) (2.1.5)\n",
            "Note: you may need to restart the kernel to use updated packages.\n"
          ]
        }
      ],
      "source": [
        "pip install flask"
      ]
    },
    {
      "cell_type": "code",
      "execution_count": 16,
      "metadata": {
        "colab": {
          "base_uri": "https://localhost:8080/"
        },
        "id": "ZO4WGtlJ6Wbg",
        "outputId": "f336ccda-8dec-4584-e9b1-82af0c1a3fdb"
      },
      "outputs": [
        {
          "name": "stdout",
          "output_type": "stream",
          "text": [
            "Requirement already satisfied: seaborn in c:\\users\\anitha\\appdata\\local\\programs\\python\\python310\\lib\\site-packages (0.13.2)\n",
            "Requirement already satisfied: numpy!=1.24.0,>=1.20 in c:\\users\\anitha\\appdata\\local\\programs\\python\\python310\\lib\\site-packages (from seaborn) (2.0.0)\n",
            "Requirement already satisfied: pandas>=1.2 in c:\\users\\anitha\\appdata\\local\\programs\\python\\python310\\lib\\site-packages (from seaborn) (2.2.2)\n",
            "Requirement already satisfied: matplotlib!=3.6.1,>=3.4 in c:\\users\\anitha\\appdata\\local\\programs\\python\\python310\\lib\\site-packages (from seaborn) (3.9.1)\n",
            "Requirement already satisfied: contourpy>=1.0.1 in c:\\users\\anitha\\appdata\\local\\programs\\python\\python310\\lib\\site-packages (from matplotlib!=3.6.1,>=3.4->seaborn) (1.2.1)\n",
            "Requirement already satisfied: cycler>=0.10 in c:\\users\\anitha\\appdata\\local\\programs\\python\\python310\\lib\\site-packages (from matplotlib!=3.6.1,>=3.4->seaborn) (0.12.1)\n",
            "Requirement already satisfied: fonttools>=4.22.0 in c:\\users\\anitha\\appdata\\local\\programs\\python\\python310\\lib\\site-packages (from matplotlib!=3.6.1,>=3.4->seaborn) (4.53.1)\n",
            "Requirement already satisfied: kiwisolver>=1.3.1 in c:\\users\\anitha\\appdata\\local\\programs\\python\\python310\\lib\\site-packages (from matplotlib!=3.6.1,>=3.4->seaborn) (1.4.5)\n",
            "Requirement already satisfied: packaging>=20.0 in c:\\users\\anitha\\appdata\\roaming\\python\\python310\\site-packages (from matplotlib!=3.6.1,>=3.4->seaborn) (24.1)\n",
            "Requirement already satisfied: pillow>=8 in c:\\users\\anitha\\appdata\\local\\programs\\python\\python310\\lib\\site-packages (from matplotlib!=3.6.1,>=3.4->seaborn) (10.4.0)\n",
            "Requirement already satisfied: pyparsing>=2.3.1 in c:\\users\\anitha\\appdata\\local\\programs\\python\\python310\\lib\\site-packages (from matplotlib!=3.6.1,>=3.4->seaborn) (3.1.2)\n",
            "Requirement already satisfied: python-dateutil>=2.7 in c:\\users\\anitha\\appdata\\roaming\\python\\python310\\site-packages (from matplotlib!=3.6.1,>=3.4->seaborn) (2.9.0.post0)\n",
            "Requirement already satisfied: pytz>=2020.1 in c:\\users\\anitha\\appdata\\local\\programs\\python\\python310\\lib\\site-packages (from pandas>=1.2->seaborn) (2024.1)\n",
            "Requirement already satisfied: tzdata>=2022.7 in c:\\users\\anitha\\appdata\\local\\programs\\python\\python310\\lib\\site-packages (from pandas>=1.2->seaborn) (2024.1)\n",
            "Requirement already satisfied: six>=1.5 in c:\\users\\anitha\\appdata\\roaming\\python\\python310\\site-packages (from python-dateutil>=2.7->matplotlib!=3.6.1,>=3.4->seaborn) (1.16.0)\n",
            "Note: you may need to restart the kernel to use updated packages.\n"
          ]
        }
      ],
      "source": [
        "pip install seaborn"
      ]
    },
    {
      "cell_type": "code",
      "execution_count": 17,
      "metadata": {
        "colab": {
          "base_uri": "https://localhost:8080/"
        },
        "id": "wPOyFmWd6Wdz",
        "outputId": "c90f6c8c-cdec-4675-8f89-6a9cae3fd81a"
      },
      "outputs": [
        {
          "name": "stdout",
          "output_type": "stream",
          "text": [
            "Requirement already satisfied: xgboost in c:\\users\\anitha\\appdata\\local\\programs\\python\\python310\\lib\\site-packages (2.0.3)\n",
            "Requirement already satisfied: numpy in c:\\users\\anitha\\appdata\\local\\programs\\python\\python310\\lib\\site-packages (from xgboost) (2.0.0)\n",
            "Requirement already satisfied: scipy in c:\\users\\anitha\\appdata\\local\\programs\\python\\python310\\lib\\site-packages (from xgboost) (1.14.0)\n",
            "Note: you may need to restart the kernel to use updated packages.\n"
          ]
        }
      ],
      "source": [
        "pip install xgboost"
      ]
    },
    {
      "cell_type": "markdown",
      "metadata": {
        "id": "DDh4jfcK7n58"
      },
      "source": [
        "**DATA COLLECTION & PREPARATION**"
      ]
    },
    {
      "cell_type": "markdown",
      "metadata": {
        "id": "HygbTbUk8Dkt"
      },
      "source": [
        "**Importing The Libraries**"
      ]
    },
    {
      "cell_type": "code",
      "execution_count": 18,
      "metadata": {
        "id": "u34fYF_q6Lth"
      },
      "outputs": [],
      "source": [
        "import pandas as pd\n",
        "import numpy as np\n",
        "import matplotlib.pyplot as plt\n",
        "import seaborn as sns\n",
        "from sklearn.model_selection import train_test_split\n",
        "from sklearn.linear_model import LogisticRegression\n",
        "from sklearn.tree import DecisionTreeClassifier\n",
        "from sklearn.ensemble import RandomForestClassifier\n",
        "from sklearn.metrics import accuracy_score\n",
        "import xgboost as xgb"
      ]
    },
    {
      "cell_type": "markdown",
      "metadata": {
        "id": "SJ4yEBk78f0w"
      },
      "source": [
        "**Read The Dataset**"
      ]
    },
    {
      "cell_type": "code",
      "execution_count": 19,
      "metadata": {
        "id": "NwK5_-3lo6YW"
      },
      "outputs": [],
      "source": [
        "data=pd.read_csv('apple_quality.csv')"
      ]
    },
    {
      "cell_type": "code",
      "execution_count": 20,
      "metadata": {
        "colab": {
          "base_uri": "https://localhost:8080/",
          "height": 206
        },
        "id": "tFFIWoF883Ex",
        "outputId": "3631fbd4-05a0-484e-d578-2f6c3ff60d23"
      },
      "outputs": [
        {
          "data": {
            "text/html": [
              "<div>\n",
              "<style scoped>\n",
              "    .dataframe tbody tr th:only-of-type {\n",
              "        vertical-align: middle;\n",
              "    }\n",
              "\n",
              "    .dataframe tbody tr th {\n",
              "        vertical-align: top;\n",
              "    }\n",
              "\n",
              "    .dataframe thead th {\n",
              "        text-align: right;\n",
              "    }\n",
              "</style>\n",
              "<table border=\"1\" class=\"dataframe\">\n",
              "  <thead>\n",
              "    <tr style=\"text-align: right;\">\n",
              "      <th></th>\n",
              "      <th>A_id</th>\n",
              "      <th>Size</th>\n",
              "      <th>Weight</th>\n",
              "      <th>Sweetness</th>\n",
              "      <th>Crunchiness</th>\n",
              "      <th>Juiciness</th>\n",
              "      <th>Ripeness</th>\n",
              "      <th>Acidity</th>\n",
              "      <th>Quality</th>\n",
              "    </tr>\n",
              "  </thead>\n",
              "  <tbody>\n",
              "    <tr>\n",
              "      <th>0</th>\n",
              "      <td>0.0</td>\n",
              "      <td>-3.970049</td>\n",
              "      <td>-2.512336</td>\n",
              "      <td>5.346330</td>\n",
              "      <td>-1.012009</td>\n",
              "      <td>1.844900</td>\n",
              "      <td>0.329840</td>\n",
              "      <td>-0.491590483</td>\n",
              "      <td>good</td>\n",
              "    </tr>\n",
              "    <tr>\n",
              "      <th>1</th>\n",
              "      <td>1.0</td>\n",
              "      <td>-1.195217</td>\n",
              "      <td>-2.839257</td>\n",
              "      <td>3.664059</td>\n",
              "      <td>1.588232</td>\n",
              "      <td>0.853286</td>\n",
              "      <td>0.867530</td>\n",
              "      <td>-0.722809367</td>\n",
              "      <td>good</td>\n",
              "    </tr>\n",
              "    <tr>\n",
              "      <th>2</th>\n",
              "      <td>2.0</td>\n",
              "      <td>-0.292024</td>\n",
              "      <td>-1.351282</td>\n",
              "      <td>-1.738429</td>\n",
              "      <td>-0.342616</td>\n",
              "      <td>2.838636</td>\n",
              "      <td>-0.038033</td>\n",
              "      <td>2.621636473</td>\n",
              "      <td>bad</td>\n",
              "    </tr>\n",
              "    <tr>\n",
              "      <th>3</th>\n",
              "      <td>3.0</td>\n",
              "      <td>-0.657196</td>\n",
              "      <td>-2.271627</td>\n",
              "      <td>1.324874</td>\n",
              "      <td>-0.097875</td>\n",
              "      <td>3.637970</td>\n",
              "      <td>-3.413761</td>\n",
              "      <td>0.790723217</td>\n",
              "      <td>good</td>\n",
              "    </tr>\n",
              "    <tr>\n",
              "      <th>4</th>\n",
              "      <td>4.0</td>\n",
              "      <td>1.364217</td>\n",
              "      <td>-1.296612</td>\n",
              "      <td>-0.384658</td>\n",
              "      <td>-0.553006</td>\n",
              "      <td>3.030874</td>\n",
              "      <td>-1.303849</td>\n",
              "      <td>0.501984036</td>\n",
              "      <td>good</td>\n",
              "    </tr>\n",
              "  </tbody>\n",
              "</table>\n",
              "</div>"
            ],
            "text/plain": [
              "   A_id      Size    Weight  Sweetness  Crunchiness  Juiciness  Ripeness  \\\n",
              "0   0.0 -3.970049 -2.512336   5.346330    -1.012009   1.844900  0.329840   \n",
              "1   1.0 -1.195217 -2.839257   3.664059     1.588232   0.853286  0.867530   \n",
              "2   2.0 -0.292024 -1.351282  -1.738429    -0.342616   2.838636 -0.038033   \n",
              "3   3.0 -0.657196 -2.271627   1.324874    -0.097875   3.637970 -3.413761   \n",
              "4   4.0  1.364217 -1.296612  -0.384658    -0.553006   3.030874 -1.303849   \n",
              "\n",
              "        Acidity Quality  \n",
              "0  -0.491590483    good  \n",
              "1  -0.722809367    good  \n",
              "2   2.621636473     bad  \n",
              "3   0.790723217    good  \n",
              "4   0.501984036    good  "
            ]
          },
          "execution_count": 20,
          "metadata": {},
          "output_type": "execute_result"
        }
      ],
      "source": [
        "data.head()"
      ]
    },
    {
      "cell_type": "code",
      "execution_count": 21,
      "metadata": {
        "colab": {
          "base_uri": "https://localhost:8080/",
          "height": 206
        },
        "id": "wmwWk2nZhSGN",
        "outputId": "869276f3-4d45-4a0e-8553-0e3047290983"
      },
      "outputs": [
        {
          "data": {
            "text/html": [
              "<div>\n",
              "<style scoped>\n",
              "    .dataframe tbody tr th:only-of-type {\n",
              "        vertical-align: middle;\n",
              "    }\n",
              "\n",
              "    .dataframe tbody tr th {\n",
              "        vertical-align: top;\n",
              "    }\n",
              "\n",
              "    .dataframe thead th {\n",
              "        text-align: right;\n",
              "    }\n",
              "</style>\n",
              "<table border=\"1\" class=\"dataframe\">\n",
              "  <thead>\n",
              "    <tr style=\"text-align: right;\">\n",
              "      <th></th>\n",
              "      <th>A_id</th>\n",
              "      <th>Size</th>\n",
              "      <th>Weight</th>\n",
              "      <th>Sweetness</th>\n",
              "      <th>Crunchiness</th>\n",
              "      <th>Juiciness</th>\n",
              "      <th>Ripeness</th>\n",
              "      <th>Acidity</th>\n",
              "      <th>Quality</th>\n",
              "    </tr>\n",
              "  </thead>\n",
              "  <tbody>\n",
              "    <tr>\n",
              "      <th>3996</th>\n",
              "      <td>3996.0</td>\n",
              "      <td>-0.293118</td>\n",
              "      <td>1.949253</td>\n",
              "      <td>-0.204020</td>\n",
              "      <td>-0.640196</td>\n",
              "      <td>0.024523</td>\n",
              "      <td>-1.087900</td>\n",
              "      <td>1.854235285</td>\n",
              "      <td>good</td>\n",
              "    </tr>\n",
              "    <tr>\n",
              "      <th>3997</th>\n",
              "      <td>3997.0</td>\n",
              "      <td>-2.634515</td>\n",
              "      <td>-2.138247</td>\n",
              "      <td>-2.440461</td>\n",
              "      <td>0.657223</td>\n",
              "      <td>2.199709</td>\n",
              "      <td>4.763859</td>\n",
              "      <td>-1.334611391</td>\n",
              "      <td>bad</td>\n",
              "    </tr>\n",
              "    <tr>\n",
              "      <th>3998</th>\n",
              "      <td>3998.0</td>\n",
              "      <td>-4.008004</td>\n",
              "      <td>-1.779337</td>\n",
              "      <td>2.366397</td>\n",
              "      <td>-0.200329</td>\n",
              "      <td>2.161435</td>\n",
              "      <td>0.214488</td>\n",
              "      <td>-2.229719806</td>\n",
              "      <td>good</td>\n",
              "    </tr>\n",
              "    <tr>\n",
              "      <th>3999</th>\n",
              "      <td>3999.0</td>\n",
              "      <td>0.278540</td>\n",
              "      <td>-1.715505</td>\n",
              "      <td>0.121217</td>\n",
              "      <td>-1.154075</td>\n",
              "      <td>1.266677</td>\n",
              "      <td>-0.776571</td>\n",
              "      <td>1.599796456</td>\n",
              "      <td>good</td>\n",
              "    </tr>\n",
              "    <tr>\n",
              "      <th>4000</th>\n",
              "      <td>NaN</td>\n",
              "      <td>NaN</td>\n",
              "      <td>NaN</td>\n",
              "      <td>NaN</td>\n",
              "      <td>NaN</td>\n",
              "      <td>NaN</td>\n",
              "      <td>NaN</td>\n",
              "      <td>Created_by_Nidula_Elgiriyewithana</td>\n",
              "      <td>NaN</td>\n",
              "    </tr>\n",
              "  </tbody>\n",
              "</table>\n",
              "</div>"
            ],
            "text/plain": [
              "        A_id      Size    Weight  Sweetness  Crunchiness  Juiciness  Ripeness  \\\n",
              "3996  3996.0 -0.293118  1.949253  -0.204020    -0.640196   0.024523 -1.087900   \n",
              "3997  3997.0 -2.634515 -2.138247  -2.440461     0.657223   2.199709  4.763859   \n",
              "3998  3998.0 -4.008004 -1.779337   2.366397    -0.200329   2.161435  0.214488   \n",
              "3999  3999.0  0.278540 -1.715505   0.121217    -1.154075   1.266677 -0.776571   \n",
              "4000     NaN       NaN       NaN        NaN          NaN        NaN       NaN   \n",
              "\n",
              "                                Acidity Quality  \n",
              "3996                        1.854235285    good  \n",
              "3997                       -1.334611391     bad  \n",
              "3998                       -2.229719806    good  \n",
              "3999                        1.599796456    good  \n",
              "4000  Created_by_Nidula_Elgiriyewithana     NaN  "
            ]
          },
          "execution_count": 21,
          "metadata": {},
          "output_type": "execute_result"
        }
      ],
      "source": [
        "data.tail()"
      ]
    },
    {
      "cell_type": "markdown",
      "metadata": {
        "id": "7P348JeG9SUY"
      },
      "source": [
        "**Handling Missing Values**"
      ]
    },
    {
      "cell_type": "code",
      "execution_count": 22,
      "metadata": {
        "colab": {
          "base_uri": "https://localhost:8080/"
        },
        "id": "I6prD7VrnFAw",
        "outputId": "35f075ae-da6f-4a9d-d776-a0aaee8c2f0c"
      },
      "outputs": [
        {
          "data": {
            "text/plain": [
              "(4001, 9)"
            ]
          },
          "execution_count": 22,
          "metadata": {},
          "output_type": "execute_result"
        }
      ],
      "source": [
        "data.shape"
      ]
    },
    {
      "cell_type": "code",
      "execution_count": 23,
      "metadata": {
        "colab": {
          "base_uri": "https://localhost:8080/"
        },
        "id": "68EPb_9K24fs",
        "outputId": "0ab01ead-ac3b-4096-c787-43fceae8ce96"
      },
      "outputs": [
        {
          "name": "stdout",
          "output_type": "stream",
          "text": [
            "<class 'pandas.core.frame.DataFrame'>\n",
            "RangeIndex: 4001 entries, 0 to 4000\n",
            "Data columns (total 9 columns):\n",
            " #   Column       Non-Null Count  Dtype  \n",
            "---  ------       --------------  -----  \n",
            " 0   A_id         4000 non-null   float64\n",
            " 1   Size         4000 non-null   float64\n",
            " 2   Weight       4000 non-null   float64\n",
            " 3   Sweetness    4000 non-null   float64\n",
            " 4   Crunchiness  4000 non-null   float64\n",
            " 5   Juiciness    4000 non-null   float64\n",
            " 6   Ripeness     4000 non-null   float64\n",
            " 7   Acidity      4001 non-null   object \n",
            " 8   Quality      4000 non-null   object \n",
            "dtypes: float64(7), object(2)\n",
            "memory usage: 281.4+ KB\n"
          ]
        }
      ],
      "source": [
        "data.info()"
      ]
    },
    {
      "cell_type": "code",
      "execution_count": 24,
      "metadata": {
        "colab": {
          "base_uri": "https://localhost:8080/"
        },
        "id": "LDUYlSLQvcU_",
        "outputId": "0d43d27a-eb76-4267-ae64-0415d86c587c"
      },
      "outputs": [
        {
          "data": {
            "text/plain": [
              "A_id           1\n",
              "Size           1\n",
              "Weight         1\n",
              "Sweetness      1\n",
              "Crunchiness    1\n",
              "Juiciness      1\n",
              "Ripeness       1\n",
              "Acidity        0\n",
              "Quality        1\n",
              "dtype: int64"
            ]
          },
          "execution_count": 24,
          "metadata": {},
          "output_type": "execute_result"
        }
      ],
      "source": [
        "data.isnull().sum()"
      ]
    },
    {
      "cell_type": "code",
      "execution_count": 25,
      "metadata": {
        "id": "X3YLiNRKvxLz"
      },
      "outputs": [],
      "source": [
        "data.dropna(inplace=True)"
      ]
    },
    {
      "cell_type": "markdown",
      "metadata": {
        "id": "UnxsaBcA9sfl"
      },
      "source": [
        "**Handling Imbalance Data**"
      ]
    },
    {
      "cell_type": "code",
      "execution_count": 26,
      "metadata": {
        "id": "CcswfpMkwGHw"
      },
      "outputs": [],
      "source": [
        "columns_of_interest=['Size','Weight','Sweetness','Crunchiness','Juiciness','acidity','Quality']"
      ]
    },
    {
      "cell_type": "code",
      "execution_count": 27,
      "metadata": {
        "colab": {
          "base_uri": "https://localhost:8080/",
          "height": 1000
        },
        "id": "G-ThoG_pxNAm",
        "outputId": "0c697833-19d8-4559-a0dc-f037e4b52448"
      },
      "outputs": [
        {
          "name": "stderr",
          "output_type": "stream",
          "text": [
            "c:\\Users\\Anitha\\AppData\\Local\\Programs\\Python\\Python310\\lib\\site-packages\\seaborn\\_base.py:1608: UserWarning: Vertical orientation ignored with only `x` specified.\n",
            "  warnings.warn(single_var_warning.format(\"Vertical\", \"x\"))\n",
            "C:\\Users\\Anitha\\AppData\\Local\\Temp\\ipykernel_1736\\4271195836.py:5: FutureWarning: \n",
            "\n",
            "Passing `palette` without assigning `hue` is deprecated and will be removed in v0.14.0. Assign the `y` variable to `hue` and set `legend=False` for the same effect.\n",
            "\n",
            "  sns.boxplot(x=data[column], orient=\"v\", palette=\"Set2\")\n"
          ]
        },
        {
          "data": {
            "image/png": "[encoded data removed]",
            "text/plain": [
              "<Figure size 800x600 with 1 Axes>"
            ]
          },
          "metadata": {},
          "output_type": "display_data"
        },
        {
          "name": "stdout",
          "output_type": "stream",
          "text": [
            "Column 'Size' not found in the DataFrame.\n"
          ]
        },
        {
          "name": "stderr",
          "output_type": "stream",
          "text": [
            "c:\\Users\\Anitha\\AppData\\Local\\Programs\\Python\\Python310\\lib\\site-packages\\seaborn\\_base.py:1608: UserWarning: Vertical orientation ignored with only `x` specified.\n",
            "  warnings.warn(single_var_warning.format(\"Vertical\", \"x\"))\n",
            "C:\\Users\\Anitha\\AppData\\Local\\Temp\\ipykernel_1736\\4271195836.py:5: FutureWarning: \n",
            "\n",
            "Passing `palette` without assigning `hue` is deprecated and will be removed in v0.14.0. Assign the `y` variable to `hue` and set `legend=False` for the same effect.\n",
            "\n",
            "  sns.boxplot(x=data[column], orient=\"v\", palette=\"Set2\")\n"
          ]
        },
        {
          "data": {
            "image/png": "[encoded data removed]",
            "text/plain": [
              "<Figure size 640x480 with 1 Axes>"
            ]
          },
          "metadata": {},
          "output_type": "display_data"
        },
        {
          "name": "stdout",
          "output_type": "stream",
          "text": [
            "Column 'Weight' not found in the DataFrame.\n"
          ]
        },
        {
          "name": "stderr",
          "output_type": "stream",
          "text": [
            "c:\\Users\\Anitha\\AppData\\Local\\Programs\\Python\\Python310\\lib\\site-packages\\seaborn\\_base.py:1608: UserWarning: Vertical orientation ignored with only `x` specified.\n",
            "  warnings.warn(single_var_warning.format(\"Vertical\", \"x\"))\n",
            "C:\\Users\\Anitha\\AppData\\Local\\Temp\\ipykernel_1736\\4271195836.py:5: FutureWarning: \n",
            "\n",
            "Passing `palette` without assigning `hue` is deprecated and will be removed in v0.14.0. Assign the `y` variable to `hue` and set `legend=False` for the same effect.\n",
            "\n",
            "  sns.boxplot(x=data[column], orient=\"v\", palette=\"Set2\")\n"
          ]
        },
        {
          "data": {
            "image/png": "[encoded data removed]",
            "text/plain": [
              "<Figure size 640x480 with 1 Axes>"
            ]
          },
          "metadata": {},
          "output_type": "display_data"
        },
        {
          "name": "stdout",
          "output_type": "stream",
          "text": [
            "Column 'Sweetness' not found in the DataFrame.\n"
          ]
        },
        {
          "name": "stderr",
          "output_type": "stream",
          "text": [
            "c:\\Users\\Anitha\\AppData\\Local\\Programs\\Python\\Python310\\lib\\site-packages\\seaborn\\_base.py:1608: UserWarning: Vertical orientation ignored with only `x` specified.\n",
            "  warnings.warn(single_var_warning.format(\"Vertical\", \"x\"))\n",
            "C:\\Users\\Anitha\\AppData\\Local\\Temp\\ipykernel_1736\\4271195836.py:5: FutureWarning: \n",
            "\n",
            "Passing `palette` without assigning `hue` is deprecated and will be removed in v0.14.0. Assign the `y` variable to `hue` and set `legend=False` for the same effect.\n",
            "\n",
            "  sns.boxplot(x=data[column], orient=\"v\", palette=\"Set2\")\n"
          ]
        },
        {
          "data": {
            "image/png": "[encoded data removed]",
            "text/plain": [
              "<Figure size 640x480 with 1 Axes>"
            ]
          },
          "metadata": {},
          "output_type": "display_data"
        },
        {
          "name": "stderr",
          "output_type": "stream",
          "text": [
            "c:\\Users\\Anitha\\AppData\\Local\\Programs\\Python\\Python310\\lib\\site-packages\\seaborn\\_base.py:1608: UserWarning: Vertical orientation ignored with only `x` specified.\n",
            "  warnings.warn(single_var_warning.format(\"Vertical\", \"x\"))\n",
            "C:\\Users\\Anitha\\AppData\\Local\\Temp\\ipykernel_1736\\4271195836.py:5: FutureWarning: \n",
            "\n",
            "Passing `palette` without assigning `hue` is deprecated and will be removed in v0.14.0. Assign the `y` variable to `hue` and set `legend=False` for the same effect.\n",
            "\n",
            "  sns.boxplot(x=data[column], orient=\"v\", palette=\"Set2\")\n"
          ]
        },
        {
          "name": "stdout",
          "output_type": "stream",
          "text": [
            "Column 'Crunchiness' not found in the DataFrame.\n"
          ]
        },
        {
          "data": {
            "image/png": "[encoded data removed]",
            "text/plain": [
              "<Figure size 640x480 with 1 Axes>"
            ]
          },
          "metadata": {},
          "output_type": "display_data"
        },
        {
          "name": "stdout",
          "output_type": "stream",
          "text": [
            "Column 'Juiciness' not found in the DataFrame.\n"
          ]
        },
        {
          "data": {
            "image/png": "[encoded data removed]",
            "text/plain": [
              "<Figure size 640x480 with 1 Axes>"
            ]
          },
          "metadata": {},
          "output_type": "display_data"
        },
        {
          "name": "stdout",
          "output_type": "stream",
          "text": [
            "Column 'acidity' not found in the DataFrame.\n"
          ]
        },
        {
          "name": "stderr",
          "output_type": "stream",
          "text": [
            "c:\\Users\\Anitha\\AppData\\Local\\Programs\\Python\\Python310\\lib\\site-packages\\seaborn\\_base.py:1608: UserWarning: Vertical orientation ignored with only `x` specified.\n",
            "  warnings.warn(single_var_warning.format(\"Vertical\", \"x\"))\n",
            "C:\\Users\\Anitha\\AppData\\Local\\Temp\\ipykernel_1736\\4271195836.py:5: FutureWarning: \n",
            "\n",
            "Passing `palette` without assigning `hue` is deprecated and will be removed in v0.14.0. Assign the `y` variable to `hue` and set `legend=False` for the same effect.\n",
            "\n",
            "  sns.boxplot(x=data[column], orient=\"v\", palette=\"Set2\")\n"
          ]
        },
        {
          "data": {
            "image/png": "[encoded data removed]",
            "text/plain": [
              "<Figure size 640x480 with 1 Axes>"
            ]
          },
          "metadata": {},
          "output_type": "display_data"
        },
        {
          "name": "stdout",
          "output_type": "stream",
          "text": [
            "Column 'Quality' not found in the DataFrame.\n"
          ]
        }
      ],
      "source": [
        "#Create boxplots for the selected columns\n",
        "plt.figure(figsize=(8,6))\n",
        "for column in columns_of_interest:\n",
        "  if column in data.columns:\n",
        "   sns.boxplot(x=data[column], orient=\"v\", palette=\"Set2\")\n",
        "  plt.title(f\"Boxplot for{column}\")\n",
        "  plt.xlabel(column)\n",
        "  plt.ylabel(\"Values\")\n",
        "  plt.show()\n",
        "  print(f\"Column '{column}' not found in the DataFrame.\")"
      ]
    },
    {
      "cell_type": "code",
      "execution_count": 28,
      "metadata": {
        "colab": {
          "base_uri": "https://localhost:8080/",
          "height": 574
        },
        "id": "WY7fGO5d1q97",
        "outputId": "37202d9c-a460-4ed7-c701-ab530f4cb088"
      },
      "outputs": [
        {
          "name": "stdout",
          "output_type": "stream",
          "text": [
            "0.75    0.805526\n",
            "0.25   -1.816765\n",
            "Name: Size, dtype: float64\n",
            "0.8055264495000001\n",
            "-1.816764527\n",
            "2.6222909765\n",
            "4.73896291425\n",
            "-5.75020099175\n"
          ]
        },
        {
          "data": {
            "text/plain": [
              "<Axes: ylabel='Size'>"
            ]
          },
          "execution_count": 28,
          "metadata": {},
          "output_type": "execute_result"
        },
        {
          "data": {
            "image/png": "[encoded data removed]",
            "text/plain": [
              "<Figure size 640x480 with 1 Axes>"
            ]
          },
          "metadata": {},
          "output_type": "display_data"
        }
      ],
      "source": [
        "quant=data['Size'].quantile(q=[0.75,0.25])\n",
        "print(quant)\n",
        "Q3=quant.loc[0.75]\n",
        "print(Q3)\n",
        "Q1=quant.loc[0.25]\n",
        "print(Q1)\n",
        "IQR=Q3-Q1\n",
        "print(IQR)\n",
        "maxwhisker=Q3+1.5*IQR\n",
        "print(maxwhisker)\n",
        "minwhisker=Q1-1.5*IQR\n",
        "print(minwhisker)\n",
        "data['Size']=np.where(data['Size']>4.73896291425,4.73896291425,data['Size'])\n",
        "data['Size']=np.where(data['Size']<-5.75020099175,-5.75020099175,data['Size'])\n",
        "sns.boxplot(data['Size'])"
      ]
    },
    {
      "cell_type": "code",
      "execution_count": 29,
      "metadata": {
        "colab": {
          "base_uri": "https://localhost:8080/",
          "height": 574
        },
        "id": "3_rLSZ2e5ev7",
        "outputId": "b78e8f84-df04-499b-c4c8-462b3b5dbed7"
      },
      "outputs": [
        {
          "name": "stdout",
          "output_type": "stream",
          "text": [
            "0.75    0.030976\n",
            "0.25   -2.011770\n",
            "Name: Weight, dtype: float64\n",
            "0.03097644\n",
            "-2.01177029275\n",
            "2.04274673275\n",
            "3.0950965391249996\n",
            "-5.075890391874999\n"
          ]
        },
        {
          "data": {
            "text/plain": [
              "<Axes: ylabel='Weight'>"
            ]
          },
          "execution_count": 29,
          "metadata": {},
          "output_type": "execute_result"
        },
        {
          "data": {
            "image/png": "[encoded data removed]",
            "text/plain": [
              "<Figure size 640x480 with 1 Axes>"
            ]
          },
          "metadata": {},
          "output_type": "display_data"
        }
      ],
      "source": [
        "quant = data['Weight'].quantile(q=[0.75,0.25])\n",
        "print(quant)\n",
        "Q3=quant.loc[0.75]\n",
        "print(Q3)\n",
        "Q1=quant.loc[0.25]\n",
        "print(Q1)\n",
        "IQR=Q3-Q1\n",
        "print(IQR)\n",
        "maxwhisker=Q3+1.5*IQR\n",
        "print(maxwhisker)\n",
        "minwhisker=Q1-1.5*IQR\n",
        "print(minwhisker)\n",
        "data['Weight']=np.where(data['Weight']>3.0950965391249996,3.0950965391249996,data['Weight'])\n",
        "data['Weight']=np.where(data['Weight']<-5.075890391874999,-5.075890391874999,data['Weight'])\n",
        "sns.boxplot(data['Weight'])\n"
      ]
    },
    {
      "cell_type": "code",
      "execution_count": null,
      "metadata": {
        "id": "gb09_g8V-xlp"
      },
      "outputs": [],
      "source": []
    },
    {
      "cell_type": "code",
      "execution_count": 30,
      "metadata": {
        "colab": {
          "base_uri": "https://localhost:8080/",
          "height": 576
        },
        "id": "p9eYQuLM7_I9",
        "outputId": "0979c78d-ecbd-45f8-e521-da23fec39da2"
      },
      "outputs": [
        {
          "name": "stdout",
          "output_type": "stream",
          "text": [
            "0.75    0.801922\n",
            "0.25   -1.738425\n",
            "Name: Sweetness, dtype: float64\n",
            "0.8019219209999999\n",
            "-1.7384250625\n",
            "2.5403469835\n",
            "4.61244239625\n",
            "-5.54894553775\n"
          ]
        },
        {
          "data": {
            "text/plain": [
              "<Axes: ylabel='Sweetness'>"
            ]
          },
          "execution_count": 30,
          "metadata": {},
          "output_type": "execute_result"
        },
        {
          "data": {
            "image/png": "[encoded data removed]",
            "text/plain": [
              "<Figure size 640x480 with 1 Axes>"
            ]
          },
          "metadata": {},
          "output_type": "display_data"
        }
      ],
      "source": [
        "quant=data['Sweetness'].quantile(q=[0.75,0.25])\n",
        "print(quant)\n",
        "Q3=quant.loc[0.75]\n",
        "print(Q3)\n",
        "Q1=quant.loc[0.25]\n",
        "print(Q1)\n",
        "IQR=Q3-Q1\n",
        "print(IQR)\n",
        "maxwhisker=Q3+1.5*IQR\n",
        "print(maxwhisker)\n",
        "minwhisker=Q1-1.5*IQR\n",
        "print(minwhisker)\n",
        "data['Sweetness']=np.where(data['Sweetness']>4.61244239625,4.61244239625,data['Sweetness'])\n",
        "data['Sweetness']=np.where(data['Sweetness']<-5.54894553775,-5.54894553775,data['Sweetness'])\n",
        "sns.boxplot(data['Sweetness'])"
      ]
    },
    {
      "cell_type": "code",
      "execution_count": null,
      "metadata": {
        "id": "dXy804RK_S2P"
      },
      "outputs": [],
      "source": []
    },
    {
      "cell_type": "code",
      "execution_count": 31,
      "metadata": {
        "colab": {
          "base_uri": "https://localhost:8080/",
          "height": 580
        },
        "id": "P_VCOm0vCHY3",
        "outputId": "3ebd1e0e-8f07-48e0-d626-74fec409b1a8"
      },
      "outputs": [
        {
          "name": "stdout",
          "output_type": "stream",
          "text": [
            "0.75    1.894234\n",
            "0.25    0.062764\n",
            "Name: Crunchiness, dtype: float64\n",
            "1.8942342170000002\n",
            "0.06276439525000001\n",
            "1.83146982175\n",
            "4.641438949625\n",
            "-2.6844403373750003\n"
          ]
        },
        {
          "data": {
            "text/plain": [
              "<Axes: ylabel='Crunchiness'>"
            ]
          },
          "execution_count": 31,
          "metadata": {},
          "output_type": "execute_result"
        },
        {
          "data": {
            "image/png": "[encoded data removed]",
            "text/plain": [
              "<Figure size 640x480 with 1 Axes>"
            ]
          },
          "metadata": {},
          "output_type": "display_data"
        }
      ],
      "source": [
        "quant=data['Crunchiness'].quantile(q=[0.75,0.25])\n",
        "print(quant)\n",
        "Q3=quant.loc[0.75]\n",
        "print(Q3)\n",
        "Q1=quant.loc[0.25]\n",
        "print(Q1)\n",
        "IQR=Q3-Q1\n",
        "print(IQR)\n",
        "maxwhisker=Q3+1.5*IQR\n",
        "print(maxwhisker)\n",
        "minwhisker=Q1-1.5*IQR\n",
        "print(minwhisker)\n",
        "data['Crunchiness']=np.where(data['Crunchiness']>4.641438949625,4.641438949625,data['Crunchiness'])\n",
        "data['Crunchiness']=np.where(data['Crunchiness']<-2.6844403373750003,-2.6844403373750003,data['Crunchiness'])\n",
        "sns.boxplot(data['Crunchiness'])\n",
        "\n"
      ]
    },
    {
      "cell_type": "code",
      "execution_count": 32,
      "metadata": {
        "colab": {
          "base_uri": "https://localhost:8080/",
          "height": 574
        },
        "id": "M6GZwYynFxwC",
        "outputId": "80674f2f-487f-4bed-bcb3-7f5cb1119e46"
      },
      "outputs": [
        {
          "name": "stdout",
          "output_type": "stream",
          "text": [
            "0.75    1.835976\n",
            "0.25   -0.801286\n",
            "Name: Juiciness, dtype: float64\n",
            "1.8359763875\n",
            "-0.80128581525\n",
            "2.6372622027499997\n",
            "5.791869691624999\n",
            "-4.7571791193749995\n"
          ]
        },
        {
          "data": {
            "text/plain": [
              "<Axes: ylabel='Juiciness'>"
            ]
          },
          "execution_count": 32,
          "metadata": {},
          "output_type": "execute_result"
        },
        {
          "data": {
            "image/png": "[encoded data removed]",
            "text/plain": [
              "<Figure size 640x480 with 1 Axes>"
            ]
          },
          "metadata": {},
          "output_type": "display_data"
        }
      ],
      "source": [
        "quant=data['Juiciness'].quantile(q=[0.75,0.25])\n",
        "print(quant)\n",
        "Q3=quant.loc[0.75]\n",
        "print(Q3)\n",
        "Q1=quant.loc[0.25]\n",
        "print(Q1)\n",
        "IQR=Q3-Q1\n",
        "print(IQR)\n",
        "maxwhisker=Q3+1.5*IQR\n",
        "print(maxwhisker)\n",
        "minwhisker=Q1-1.5*IQR\n",
        "print(minwhisker)\n",
        "data['Juiciness']=np.where(data['Juiciness']>5.7918691624999,5.791869691624999,data['Juiciness'])\n",
        "data['Juiciness']=np.where(data['Juiciness']<-4.7571791193749995,-4.7571791193749995,data['Juiciness'])\n",
        "sns.boxplot(data['Juiciness'])\n"
      ]
    },
    {
      "cell_type": "code",
      "execution_count": 33,
      "metadata": {
        "colab": {
          "base_uri": "https://localhost:8080/",
          "height": 577
        },
        "id": "NhYomFM8IXGr",
        "outputId": "9b768ef4-c834-49e7-83bf-3db9e366e414"
      },
      "outputs": [
        {
          "name": "stdout",
          "output_type": "stream",
          "text": [
            "0.75    1.766212\n",
            "0.25   -0.771677\n",
            "Name: Ripeness, dtype: float64\n",
            "1.76621164075\n",
            "-0.7716768665\n",
            "2.53788850725\n",
            "5.573044401624999\n",
            "-4.578509627375\n"
          ]
        },
        {
          "data": {
            "text/plain": [
              "<Axes: ylabel='Ripeness'>"
            ]
          },
          "execution_count": 33,
          "metadata": {},
          "output_type": "execute_result"
        },
        {
          "data": {
            "image/png": "[encoded data removed]",
            "text/plain": [
              "<Figure size 640x480 with 1 Axes>"
            ]
          },
          "metadata": {},
          "output_type": "display_data"
        }
      ],
      "source": [
        "quant=data['Ripeness'].quantile(q=[0.75,0.25])\n",
        "print(quant)\n",
        "Q3=quant.loc[0.75]\n",
        "print(Q3)\n",
        "Q1=quant.loc[0.25]\n",
        "print(Q1)\n",
        "IQR=Q3-Q1\n",
        "print(IQR)\n",
        "maxwhisker=Q3+1.5*IQR\n",
        "print(maxwhisker)\n",
        "minwhisker=Q1-1.5*IQR\n",
        "print(minwhisker)\n",
        "data['Ripeness']=np.where(data['Ripeness']>5.573044401624999,5.573044401624999,data['Ripeness'])\n",
        "data['Ripeness']=np.where(data['Ripeness']<-4.578509627375,-4.578509627357,data['Ripeness'])\n",
        "sns.boxplot(data['Ripeness'])\n",
        "\n"
      ]
    },
    {
      "cell_type": "code",
      "execution_count": 34,
      "metadata": {
        "colab": {
          "base_uri": "https://localhost:8080/",
          "height": 574
        },
        "id": "m2xuAKskKWe6",
        "outputId": "26fa346f-ddf0-466c-9b3b-f0f2a9974b88"
      },
      "outputs": [
        {
          "name": "stdout",
          "output_type": "stream",
          "text": [
            "0.75    1.766212\n",
            "0.25   -0.771677\n",
            "Name: Ripeness, dtype: float64\n",
            "1.76621164075\n",
            "-0.7716768665\n",
            "2.53788850725\n",
            "5.573044401624999\n",
            "-4.578509627375\n"
          ]
        },
        {
          "data": {
            "text/plain": [
              "<Axes: ylabel='Acidity'>"
            ]
          },
          "execution_count": 34,
          "metadata": {},
          "output_type": "execute_result"
        },
        {
          "data": {
            "image/png": "[encoded data removed]",
            "text/plain": [
              "<Figure size 640x480 with 1 Axes>"
            ]
          },
          "metadata": {},
          "output_type": "display_data"
        }
      ],
      "source": [
        "data['Acidity']=pd.to_numeric(data['Acidity'],errors='coerce')\n",
        "print(quant)\n",
        "Q3=quant.loc[0.75]\n",
        "print(Q3)\n",
        "Q1=quant.loc[0.25]\n",
        "print(Q1)\n",
        "IQR=Q3-Q1\n",
        "print(IQR)\n",
        "maxwhisker=Q3+1.5*IQR\n",
        "print(maxwhisker)\n",
        "minwhisker=Q1-1.5*IQR\n",
        "print(minwhisker)\n",
        "data['Acidity']=np.where(data['Acidity']>5.84236800775,5.84236800775,data['Acidity'])\n",
        "data['Acidity']=np.where(data['Acidity']<-5.7092993302499995,-5.7092993302499995,data['Acidity'])\n",
        "sns.boxplot(data['Acidity'])"
      ]
    },
    {
      "cell_type": "markdown",
      "metadata": {
        "id": "KtNfoiDh-gJK"
      },
      "source": [
        "**Exploratory Data Analysis**"
      ]
    },
    {
      "cell_type": "markdown",
      "metadata": {
        "id": "tHcBi1nd-pQv"
      },
      "source": [
        "**Descriptive Statistics**"
      ]
    },
    {
      "cell_type": "code",
      "execution_count": 35,
      "metadata": {
        "colab": {
          "base_uri": "https://localhost:8080/",
          "height": 300
        },
        "id": "gItnNxFfRA1h",
        "outputId": "4c79a825-6825-44d9-fa4b-0e4b4cbe6ca5"
      },
      "outputs": [
        {
          "data": {
            "text/html": [
              "<div>\n",
              "<style scoped>\n",
              "    .dataframe tbody tr th:only-of-type {\n",
              "        vertical-align: middle;\n",
              "    }\n",
              "\n",
              "    .dataframe tbody tr th {\n",
              "        vertical-align: top;\n",
              "    }\n",
              "\n",
              "    .dataframe thead th {\n",
              "        text-align: right;\n",
              "    }\n",
              "</style>\n",
              "<table border=\"1\" class=\"dataframe\">\n",
              "  <thead>\n",
              "    <tr style=\"text-align: right;\">\n",
              "      <th></th>\n",
              "      <th>A_id</th>\n",
              "      <th>Size</th>\n",
              "      <th>Weight</th>\n",
              "      <th>Sweetness</th>\n",
              "      <th>Crunchiness</th>\n",
              "      <th>Juiciness</th>\n",
              "      <th>Ripeness</th>\n",
              "      <th>Acidity</th>\n",
              "    </tr>\n",
              "  </thead>\n",
              "  <tbody>\n",
              "    <tr>\n",
              "      <th>count</th>\n",
              "      <td>4000.000000</td>\n",
              "      <td>4000.000000</td>\n",
              "      <td>4000.000000</td>\n",
              "      <td>4000.000000</td>\n",
              "      <td>4000.000000</td>\n",
              "      <td>4000.000000</td>\n",
              "      <td>4000.000000</td>\n",
              "      <td>4000.000000</td>\n",
              "    </tr>\n",
              "    <tr>\n",
              "      <th>mean</th>\n",
              "      <td>1999.500000</td>\n",
              "      <td>-0.502695</td>\n",
              "      <td>-0.991229</td>\n",
              "      <td>-0.472248</td>\n",
              "      <td>0.984194</td>\n",
              "      <td>0.513127</td>\n",
              "      <td>0.498102</td>\n",
              "      <td>0.076639</td>\n",
              "    </tr>\n",
              "    <tr>\n",
              "      <th>std</th>\n",
              "      <td>1154.844867</td>\n",
              "      <td>1.917446</td>\n",
              "      <td>1.574517</td>\n",
              "      <td>1.931684</td>\n",
              "      <td>1.369437</td>\n",
              "      <td>1.917024</td>\n",
              "      <td>1.866614</td>\n",
              "      <td>2.101441</td>\n",
              "    </tr>\n",
              "    <tr>\n",
              "      <th>min</th>\n",
              "      <td>0.000000</td>\n",
              "      <td>-5.750201</td>\n",
              "      <td>-5.075890</td>\n",
              "      <td>-5.548946</td>\n",
              "      <td>-2.684440</td>\n",
              "      <td>-4.757179</td>\n",
              "      <td>-4.578510</td>\n",
              "      <td>-5.709299</td>\n",
              "    </tr>\n",
              "    <tr>\n",
              "      <th>25%</th>\n",
              "      <td>999.750000</td>\n",
              "      <td>-1.816765</td>\n",
              "      <td>-2.011770</td>\n",
              "      <td>-1.738425</td>\n",
              "      <td>0.062764</td>\n",
              "      <td>-0.801286</td>\n",
              "      <td>-0.771677</td>\n",
              "      <td>-1.377424</td>\n",
              "    </tr>\n",
              "    <tr>\n",
              "      <th>50%</th>\n",
              "      <td>1999.500000</td>\n",
              "      <td>-0.513703</td>\n",
              "      <td>-0.984736</td>\n",
              "      <td>-0.504758</td>\n",
              "      <td>0.998249</td>\n",
              "      <td>0.534219</td>\n",
              "      <td>0.503445</td>\n",
              "      <td>0.022609</td>\n",
              "    </tr>\n",
              "    <tr>\n",
              "      <th>75%</th>\n",
              "      <td>2999.250000</td>\n",
              "      <td>0.805526</td>\n",
              "      <td>0.030976</td>\n",
              "      <td>0.801922</td>\n",
              "      <td>1.894234</td>\n",
              "      <td>1.835976</td>\n",
              "      <td>1.766212</td>\n",
              "      <td>1.510493</td>\n",
              "    </tr>\n",
              "    <tr>\n",
              "      <th>max</th>\n",
              "      <td>3999.000000</td>\n",
              "      <td>4.738963</td>\n",
              "      <td>3.095097</td>\n",
              "      <td>4.612442</td>\n",
              "      <td>4.641439</td>\n",
              "      <td>5.791870</td>\n",
              "      <td>5.573044</td>\n",
              "      <td>5.842368</td>\n",
              "    </tr>\n",
              "  </tbody>\n",
              "</table>\n",
              "</div>"
            ],
            "text/plain": [
              "              A_id         Size       Weight    Sweetness  Crunchiness  \\\n",
              "count  4000.000000  4000.000000  4000.000000  4000.000000  4000.000000   \n",
              "mean   1999.500000    -0.502695    -0.991229    -0.472248     0.984194   \n",
              "std    1154.844867     1.917446     1.574517     1.931684     1.369437   \n",
              "min       0.000000    -5.750201    -5.075890    -5.548946    -2.684440   \n",
              "25%     999.750000    -1.816765    -2.011770    -1.738425     0.062764   \n",
              "50%    1999.500000    -0.513703    -0.984736    -0.504758     0.998249   \n",
              "75%    2999.250000     0.805526     0.030976     0.801922     1.894234   \n",
              "max    3999.000000     4.738963     3.095097     4.612442     4.641439   \n",
              "\n",
              "         Juiciness     Ripeness      Acidity  \n",
              "count  4000.000000  4000.000000  4000.000000  \n",
              "mean      0.513127     0.498102     0.076639  \n",
              "std       1.917024     1.866614     2.101441  \n",
              "min      -4.757179    -4.578510    -5.709299  \n",
              "25%      -0.801286    -0.771677    -1.377424  \n",
              "50%       0.534219     0.503445     0.022609  \n",
              "75%       1.835976     1.766212     1.510493  \n",
              "max       5.791870     5.573044     5.842368  "
            ]
          },
          "execution_count": 35,
          "metadata": {},
          "output_type": "execute_result"
        }
      ],
      "source": [
        "data.describe()"
      ]
    },
    {
      "cell_type": "markdown",
      "metadata": {
        "id": "61-QdK8o_Ae1"
      },
      "source": [
        "**Visual Analysis**"
      ]
    },
    {
      "cell_type": "code",
      "execution_count": 36,
      "metadata": {
        "colab": {
          "base_uri": "https://localhost:8080/",
          "height": 601
        },
        "id": "Nz4vWsawSBS3",
        "outputId": "fcc395d5-c956-4b67-d5ed-3c1b3a8349b9"
      },
      "outputs": [
        {
          "name": "stderr",
          "output_type": "stream",
          "text": [
            "C:\\Users\\Anitha\\AppData\\Local\\Temp\\ipykernel_1736\\2210066726.py:1: FutureWarning: \n",
            "\n",
            "Passing `palette` without assigning `hue` is deprecated and will be removed in v0.14.0. Assign the `x` variable to `hue` and set `legend=False` for the same effect.\n",
            "\n",
            "  sns.countplot(x='Quality',data=data,palette='viridis')\n"
          ]
        },
        {
          "data": {
            "text/plain": [
              "Text(0.5, 1.0, 'Distribution of Quality')"
            ]
          },
          "execution_count": 36,
          "metadata": {},
          "output_type": "execute_result"
        },
        {
          "data": {
            "image/png": "[encoded data removed]",
            "text/plain": [
              "<Figure size 640x480 with 1 Axes>"
            ]
          },
          "metadata": {},
          "output_type": "display_data"
        }
      ],
      "source": [
        "sns.countplot(x='Quality',data=data,palette='viridis')\n",
        "plt.title('Distribution of Quality')"
      ]
    },
    {
      "cell_type": "code",
      "execution_count": 37,
      "metadata": {
        "id": "VtuLN9bE59sQ"
      },
      "outputs": [],
      "source": [
        "data=data.drop([\"A_id\"],axis=1)"
      ]
    },
    {
      "cell_type": "code",
      "execution_count": 38,
      "metadata": {
        "colab": {
          "base_uri": "https://localhost:8080/",
          "height": 524
        },
        "id": "0tywzwqrtfIQ",
        "outputId": "26384f62-6937-4ee5-b268-2a29d10a00d8"
      },
      "outputs": [
        {
          "data": {
            "text/plain": [
              "<Axes: >"
            ]
          },
          "execution_count": 38,
          "metadata": {},
          "output_type": "execute_result"
        },
        {
          "data": {
            "image/png": "[encoded data removed]",
            "text/plain": [
              "<Figure size 640x480 with 2 Axes>"
            ]
          },
          "metadata": {},
          "output_type": "display_data"
        }
      ],
      "source": [
        "# Convert the 'Quality' column to a numerical representation.\n",
        "data['Quality'] = data['Quality'].map({'good': 1, 'bad': 0})  # Example mapping, adjust as needed\n",
        "\n",
        "data.corr()\n",
        "sns.heatmap(data.corr(), annot=True)"
      ]
    },
    {
      "cell_type": "code",
      "execution_count": 39,
      "metadata": {
        "id": "LbsAQv00VKfZ"
      },
      "outputs": [],
      "source": [
        "x=data.iloc[:,:-1]\n",
        "y=data['Quality']\n",
        "from sklearn.preprocessing import StandardScaler\n",
        "scaler=StandardScaler()\n",
        "X=scaler.fit_transform(x)\n",
        "x_train,x_test,y_train,y_test=train_test_split(X,y,test_size=0.2,random_state=42)\n"
      ]
    },
    {
      "cell_type": "code",
      "execution_count": 40,
      "metadata": {
        "colab": {
          "base_uri": "https://localhost:8080/"
        },
        "id": "jS_rF8nz8B93",
        "outputId": "77581153-739f-48c6-9538-4091262f0b7a"
      },
      "outputs": [
        {
          "name": "stdout",
          "output_type": "stream",
          "text": [
            "acc_score of decision tree model 0.81\n"
          ]
        }
      ],
      "source": [
        "model_=DecisionTreeClassifier()\n",
        "model_.fit(x_train,y_train)\n",
        "dt_pred=model_.predict(x_test)\n",
        "acc_score=accuracy_score=(y_test,dt_pred)\n",
        "from sklearn.metrics import accuracy_score\n",
        "acc_score=accuracy_score(y_test,dt_pred)\n",
        "print(\"acc_score of decision tree model %.2f\" % acc_score)\n"
      ]
    },
    {
      "cell_type": "markdown",
      "metadata": {
        "id": "9KMJD8aI_dIq"
      },
      "source": [
        "**Model Building**"
      ]
    },
    {
      "cell_type": "markdown",
      "metadata": {
        "id": "k413isjl_lKr"
      },
      "source": [
        "**Multiple Algorithms**"
      ]
    },
    {
      "cell_type": "code",
      "execution_count": 41,
      "metadata": {
        "colab": {
          "base_uri": "https://localhost:8080/"
        },
        "id": "uYjbLSjsk-mV",
        "outputId": "9c4d0ab4-72a8-47f4-cd06-8f403c606881"
      },
      "outputs": [
        {
          "name": "stdout",
          "output_type": "stream",
          "text": [
            "acc_score of randomForest model 0.91\n"
          ]
        }
      ],
      "source": [
        "model=RandomForestClassifier(n_estimators=100)\n",
        "model.fit(x_train,y_train)\n",
        "forest=model.predict(x_test)\n",
        "accuracy=accuracy_score(y_test,forest)\n",
        "print(\"acc_score of randomForest model %.2f\"%accuracy)\n"
      ]
    },
    {
      "cell_type": "code",
      "execution_count": 42,
      "metadata": {
        "colab": {
          "base_uri": "https://localhost:8080/"
        },
        "id": "oMAjzcIolru2",
        "outputId": "513c9211-88ef-46cc-dd9b-c0f622c62c2c"
      },
      "outputs": [
        {
          "data": {
            "text/plain": [
              "0.905"
            ]
          },
          "execution_count": 42,
          "metadata": {},
          "output_type": "execute_result"
        }
      ],
      "source": [
        "model.score(x_test,y_test)"
      ]
    },
    {
      "cell_type": "code",
      "execution_count": 43,
      "metadata": {
        "colab": {
          "base_uri": "https://localhost:8080/"
        },
        "id": "n0eXe6B-l80_",
        "outputId": "0527c8af-5857-43c7-af99-366eb13ec340"
      },
      "outputs": [
        {
          "data": {
            "text/plain": [
              "0.915"
            ]
          },
          "execution_count": 43,
          "metadata": {},
          "output_type": "execute_result"
        }
      ],
      "source": [
        "model1=xgb.XGBClassifier().fit(x_train,y_train)\n",
        "y_pred=model1.predict(x_test)\n",
        "model1.score(x_test,y_test)"
      ]
    },
    {
      "cell_type": "code",
      "execution_count": 44,
      "metadata": {
        "colab": {
          "base_uri": "https://localhost:8080/"
        },
        "id": "TBMieRIe-I1-",
        "outputId": "fac71018-569a-4fb8-fd55-f1fcbac5a923"
      },
      "outputs": [
        {
          "name": "stdout",
          "output_type": "stream",
          "text": [
            "acc_score of model 0.91\n"
          ]
        }
      ],
      "source": [
        "print(\"acc_score of model %.2f\"%accuracy_score(y_test,forest))"
      ]
    },
    {
      "cell_type": "code",
      "execution_count": 45,
      "metadata": {
        "colab": {
          "base_uri": "https://localhost:8080/"
        },
        "id": "ybjIIyUdnJBR",
        "outputId": "0850cb74-192f-4449-cd7d-059acf2ce48a"
      },
      "outputs": [
        {
          "name": "stdout",
          "output_type": "stream",
          "text": [
            "acc_score of logistic regression model 0.75\n"
          ]
        }
      ],
      "source": [
        "reg_model=LogisticRegression()\n",
        "reg_model.fit(x_train,y_train)\n",
        "reg_pred=reg_model.predict(x_test)\n",
        "reg_acc_score=accuracy_score(y_test,reg_pred)\n",
        "print(\"acc_score of logistic regression model %.2f\"%accuracy_score(y_test,reg_pred))"
      ]
    },
    {
      "cell_type": "code",
      "execution_count": null,
      "metadata": {
        "id": "tPQ4e0wybfBV"
      },
      "outputs": [],
      "source": []
    },
    {
      "cell_type": "markdown",
      "metadata": {
        "id": "9HZuUPKO_67S"
      },
      "source": [
        "**Testing The Model**"
      ]
    },
    {
      "cell_type": "code",
      "execution_count": 46,
      "metadata": {
        "colab": {
          "base_uri": "https://localhost:8080/"
        },
        "id": "bL9IHMdJt_VH",
        "outputId": "96d8f63a-3199-41a4-94a7-1753d4057dff"
      },
      "outputs": [
        {
          "name": "stdout",
          "output_type": "stream",
          "text": [
            "[0]\n"
          ]
        }
      ],
      "source": [
        "print(model1.predict([[-0.292024,-1.351282,-1.738429,-0.342616,2.838636,-0.038033,2.621636473]])) # Removed the extra value to match the expected number of features"
      ]
    },
    {
      "cell_type": "markdown",
      "metadata": {
        "id": "jionkRtTAVYw"
      },
      "source": [
        "**Performance Testing & Multiple Evaluation Metrics**"
      ]
    },
    {
      "cell_type": "markdown",
      "metadata": {
        "id": "XEWferGEAqiA"
      },
      "source": [
        "**Compare The Model**"
      ]
    },
    {
      "cell_type": "code",
      "execution_count": 47,
      "metadata": {
        "colab": {
          "base_uri": "https://localhost:8080/"
        },
        "id": "rf3Gao_OrCxq",
        "outputId": "3728399b-8460-4e16-935a-f517b318c193"
      },
      "outputs": [
        {
          "name": "stdout",
          "output_type": "stream",
          "text": [
            "              precision    recall  f1-score   support\n",
            "\n",
            "           0       0.82      0.80      0.81       408\n",
            "           1       0.80      0.81      0.80       392\n",
            "\n",
            "    accuracy                           0.81       800\n",
            "   macro avg       0.81      0.81      0.81       800\n",
            "weighted avg       0.81      0.81      0.81       800\n",
            "\n"
          ]
        }
      ],
      "source": [
        "from sklearn.metrics import classification_report\n",
        "print(classification_report(dt_pred,y_test))"
      ]
    },
    {
      "cell_type": "code",
      "execution_count": 48,
      "metadata": {
        "id": "gM39suGEs5Fm"
      },
      "outputs": [],
      "source": [
        "from sklearn.metrics import classification_report"
      ]
    },
    {
      "cell_type": "code",
      "execution_count": 49,
      "metadata": {
        "colab": {
          "base_uri": "https://localhost:8080/"
        },
        "id": "7m9KvlvItMGR",
        "outputId": "ac935d15-9326-440e-e4b5-1a7ac33f0bfe"
      },
      "outputs": [
        {
          "name": "stdout",
          "output_type": "stream",
          "text": [
            "              precision    recall  f1-score   support\n",
            "\n",
            "           0       0.90      0.91      0.90       397\n",
            "           1       0.91      0.90      0.91       403\n",
            "\n",
            "    accuracy                           0.91       800\n",
            "   macro avg       0.91      0.91      0.90       800\n",
            "weighted avg       0.91      0.91      0.91       800\n",
            "\n"
          ]
        }
      ],
      "source": [
        "print(classification_report(forest,y_test))"
      ]
    },
    {
      "cell_type": "code",
      "execution_count": 50,
      "metadata": {
        "colab": {
          "base_uri": "https://localhost:8080/"
        },
        "id": "JZI4H46-tYix",
        "outputId": "42b07cb0-bf08-4247-bfb0-d92eb4e2050f"
      },
      "outputs": [
        {
          "name": "stdout",
          "output_type": "stream",
          "text": [
            "              precision    recall  f1-score   support\n",
            "\n",
            "           0       0.91      0.92      0.91       395\n",
            "           1       0.92      0.91      0.92       405\n",
            "\n",
            "    accuracy                           0.92       800\n",
            "   macro avg       0.92      0.92      0.91       800\n",
            "weighted avg       0.92      0.92      0.92       800\n",
            "\n"
          ]
        }
      ],
      "source": [
        "print(classification_report(y_pred,y_test))"
      ]
    },
    {
      "cell_type": "code",
      "execution_count": 51,
      "metadata": {
        "colab": {
          "base_uri": "https://localhost:8080/"
        },
        "id": "vTC-WJrGtmIr",
        "outputId": "73f28760-4c81-4134-99da-cbd3de8adaba"
      },
      "outputs": [
        {
          "name": "stdout",
          "output_type": "stream",
          "text": [
            "              precision    recall  f1-score   support\n",
            "\n",
            "           0       0.76      0.75      0.75       402\n",
            "           1       0.75      0.75      0.75       398\n",
            "\n",
            "    accuracy                           0.75       800\n",
            "   macro avg       0.75      0.75      0.75       800\n",
            "weighted avg       0.75      0.75      0.75       800\n",
            "\n"
          ]
        }
      ],
      "source": [
        "print(classification_report(reg_pred,y_test))"
      ]
    },
    {
      "cell_type": "code",
      "execution_count": 52,
      "metadata": {
        "colab": {
          "base_uri": "https://localhost:8080/"
        },
        "id": "ZdzpTHFLn8pO",
        "outputId": "0cffe875-7f6e-49d0-818f-0357446df8b2"
      },
      "outputs": [
        {
          "name": "stdout",
          "output_type": "stream",
          "text": [
            "[1]\n"
          ]
        }
      ],
      "source": [
        "from sklearn.model_selection import train_test_split\n",
        "X_train, X_test, y_train, y_test = train_test_split(X, y, test_size=0.2, random_state=42)\n",
        "if not isinstance(X_test, pd.DataFrame):\n",
        " X_test = pd.DataFrame(X_test)\n",
        " single_test_instance=X_test.iloc[[0]]\n",
        "print(model1.predict(single_test_instance))"
      ]
    },
    {
      "cell_type": "code",
      "execution_count": 53,
      "metadata": {
        "colab": {
          "base_uri": "https://localhost:8080/"
        },
        "id": "f3YXYksyvAaB",
        "outputId": "ffa7a526-0ded-47ad-d739-f1186d08cb2d"
      },
      "outputs": [
        {
          "name": "stdout",
          "output_type": "stream",
          "text": [
            "[0]\n"
          ]
        }
      ],
      "source": [
        "print(model1.predict([[-0.292024,-1.351282,-1.738429,0,-0.342616,2.838636,-0.038033]])) # Remove one of the features from the input to match the number of features the model was trained on."
      ]
    },
    {
      "cell_type": "code",
      "execution_count": 54,
      "metadata": {
        "colab": {
          "base_uri": "https://localhost:8080/"
        },
        "id": "KBv79Iotvx7P",
        "outputId": "ee2bb111-1810-40be-a676-5963d55c1d4d"
      },
      "outputs": [
        {
          "name": "stdout",
          "output_type": "stream",
          "text": [
            "[1]\n"
          ]
        }
      ],
      "source": [
        "print(model1.predict([[1.364217,-1.296612,-0.384658,-0.553006,3.030874,-1.303849,0.501984036]])) # Remove one of the features from the input to match the number of features the model was trained on."
      ]
    },
    {
      "cell_type": "code",
      "execution_count": 55,
      "metadata": {
        "colab": {
          "base_uri": "https://localhost:8080/"
        },
        "id": "bGYnuZYGwDuC",
        "outputId": "a3fdca2b-9b95-48d8-b7da-158a9bd52088"
      },
      "outputs": [
        {
          "name": "stdout",
          "output_type": "stream",
          "text": [
            "[1]\n"
          ]
        }
      ],
      "source": [
        "print(model1.predict([[1.364217,1.296612,0.384658,0.553006,3.030874,1.303849,0.501984036]])) # Remove one of the features from the input to match the number of features the model was trained on."
      ]
    },
    {
      "cell_type": "markdown",
      "metadata": {
        "id": "bIHPPGTBBHDh"
      },
      "source": [
        "**Model Deployment**"
      ]
    },
    {
      "cell_type": "markdown",
      "metadata": {
        "id": "bprKKqpjBNpC"
      },
      "source": [
        "**Save The Best Model**"
      ]
    },
    {
      "cell_type": "code",
      "execution_count": 56,
      "metadata": {
        "id": "PPjln-oMqd0x"
      },
      "outputs": [],
      "source": [
        "import pickle"
      ]
    },
    {
      "cell_type": "code",
      "execution_count": 57,
      "metadata": {
        "id": "ZsKK-2kZqmHI"
      },
      "outputs": [],
      "source": [
        "pickle.dump(model1,open(\"model.pkl\",\"wb\"))"
      ]
    }
  ],
  "metadata": {
    "colab": {
      "provenance": []
    },
    "kernelspec": {
      "display_name": "Python 3",
      "name": "python3"
    },
    "language_info": {
      "codemirror_mode": {
        "name": "ipython",
        "version": 3
      },
      "file_extension": ".py",
      "mimetype": "text/x-python",
      "name": "python",
      "nbconvert_exporter": "python",
      "pygments_lexer": "ipython3",
      "version": "3.10.4"
    }
  },
  "nbformat": 4,
  "nbformat_minor": 0
}
